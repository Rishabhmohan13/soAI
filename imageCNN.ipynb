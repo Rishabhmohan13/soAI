{
  "cells": [
    {
      "cell_type": "markdown",
      "metadata": {
        "id": "UTvkvMamUGdO"
      },
      "source": [
        "# Week 2 - Task - CNN - Rishabh Mohan\n",
        "---\n"
      ]
    },
    {
      "cell_type": "markdown",
      "metadata": {
        "id": "Bw_uXo0J6Tnr"
      },
      "source": [
        "# 1. Install Dependencies and Setup"
      ]
    },
    {
      "cell_type": "code",
      "execution_count": null,
      "metadata": {
        "colab": {
          "base_uri": "https://localhost:8080/"
        },
        "collapsed": true,
        "id": "CXj0GdQWmhvV",
        "outputId": "ce439529-2a08-4640-cd86-68f11eccddf6"
      },
      "outputs": [],
      "source": [
        "!pip install tensorflow opencv-python matplotlib"
      ]
    },
    {
      "cell_type": "code",
      "execution_count": null,
      "metadata": {
        "colab": {
          "base_uri": "https://localhost:8080/"
        },
        "collapsed": true,
        "id": "NaxuZAqOmrHX",
        "outputId": "2c92904d-f5a5-47ba-e611-94db9022164d"
      },
      "outputs": [],
      "source": [
        "!pip list"
      ]
    },
    {
      "cell_type": "code",
      "execution_count": null,
      "metadata": {
        "id": "A1ww6eQ7mtLK"
      },
      "outputs": [],
      "source": [
        "import tensorflow as tf\n",
        "import os"
      ]
    },
    {
      "cell_type": "code",
      "execution_count": null,
      "metadata": {
        "id": "jrha4zzUmupp"
      },
      "outputs": [],
      "source": [
        "# Avoid OOM errors by setting GPU Memory Consumption Growth\n",
        "gpus = tf.config.experimental.list_physical_devices('GPU')\n",
        "for gpu in gpus:\n",
        "    tf.config.experimental.set_memory_growth(gpu, True)"
      ]
    },
    {
      "cell_type": "code",
      "execution_count": null,
      "metadata": {
        "colab": {
          "base_uri": "https://localhost:8080/"
        },
        "id": "mlRIXVowm42e",
        "outputId": "4d21546b-0121-45bf-d1e5-acc1e82a621e"
      },
      "outputs": [],
      "source": [
        "tf.config.list_physical_devices('GPU')"
      ]
    },
    {
      "cell_type": "markdown",
      "metadata": {
        "id": "zSIC4cJR6eTL"
      },
      "source": [
        "# 2. Remove dodgy images"
      ]
    },
    {
      "cell_type": "code",
      "execution_count": null,
      "metadata": {
        "colab": {
          "base_uri": "https://localhost:8080/"
        },
        "id": "-1q0rT6um715",
        "outputId": "3f31e7a5-0938-49c5-9080-4c2aa5af40cf"
      },
      "outputs": [],
      "source": [
        "!git clone https://github.com/Rishabhmohan13/soAI   "
      ]
    },
    {
      "cell_type": "code",
      "execution_count": 60,
      "metadata": {
        "id": "EHsN_RuPm-Fz"
      },
      "outputs": [],
      "source": [
        "data_dir = '/content/soAI/data/'"
      ]
    },
    {
      "cell_type": "code",
      "execution_count": 61,
      "metadata": {
        "id": "jnEdMIZ6Wjeu"
      },
      "outputs": [],
      "source": [
        "import os\n",
        "import cv2\n",
        "import imghdr\n",
        "\n",
        "data_dir = '/content/'\n",
        "\n",
        "# Supported image extensions\n",
        "image_exts = ['jpeg', 'jpg', 'png', 'bmp']\n",
        "\n",
        "# Iterate over the classes (folders) and images\n",
        "for image_class in os.listdir(data_dir):\n",
        "    class_dir = os.path.join(data_dir, image_class)\n",
        "\n",
        "    # Check if it's a directory\n",
        "    if os.path.isdir(class_dir):\n",
        "        for image in os.listdir(class_dir):\n",
        "            image_path = os.path.join(class_dir, image)\n",
        "            try:\n",
        "                # Read image and check extension\n",
        "                img = cv2.imread(image_path)\n",
        "                tip = imghdr.what(image_path)\n",
        "\n",
        "                # Check if the file has a valid image extension\n",
        "                if tip not in image_exts:\n",
        "                    print('Image not in ext list {}'.format(image_path))\n",
        "                    os.remove(image_path)\n",
        "            except Exception as e:\n",
        "                print('Issue with image {}'.format(image_path))\n",
        "                # os.remove(image_path)  # Uncomment if you want to delete corrupted files"
      ]
    },
    {
      "cell_type": "markdown",
      "metadata": {
        "id": "t8cEpR-k6ine"
      },
      "source": [
        "# 3. Load Data"
      ]
    },
    {
      "cell_type": "code",
      "execution_count": 62,
      "metadata": {
        "id": "V3Sp_McGnQQm"
      },
      "outputs": [],
      "source": [
        "import numpy as np\n",
        "from matplotlib import pyplot as plt"
      ]
    },
    {
      "cell_type": "code",
      "execution_count": null,
      "metadata": {
        "colab": {
          "base_uri": "https://localhost:8080/"
        },
        "id": "Aau7bzoWnSF3",
        "outputId": "3da177f0-1ce7-498f-d283-1e3a75e14989"
      },
      "outputs": [],
      "source": [
        "data = tf.keras.utils.image_dataset_from_directory(data_dir)"
      ]
    },
    {
      "cell_type": "code",
      "execution_count": 64,
      "metadata": {
        "id": "9gfiHi6Mo_lQ"
      },
      "outputs": [],
      "source": [
        "data_iterator = data.as_numpy_iterator()"
      ]
    },
    {
      "cell_type": "code",
      "execution_count": 65,
      "metadata": {
        "id": "rut4dZRjo_-Z"
      },
      "outputs": [],
      "source": [
        "batch = data_iterator.next()"
      ]
    },
    {
      "cell_type": "code",
      "execution_count": null,
      "metadata": {
        "colab": {
          "base_uri": "https://localhost:8080/",
          "height": 339
        },
        "id": "mbSoo4oppBmu",
        "outputId": "1a18ac10-c109-4019-c91f-0a7a8416b667"
      },
      "outputs": [],
      "source": [
        "fig, ax = plt.subplots(ncols=4, figsize=(20,20))\n",
        "for idx, img in enumerate(batch[0][:4]):\n",
        "    ax[idx].imshow(img.astype(int))\n",
        "    ax[idx].title.set_text(batch[1][idx])"
      ]
    },
    {
      "cell_type": "markdown",
      "metadata": {
        "id": "UNZfpY6hpGIL"
      },
      "source": [
        "# 4. Scale Data"
      ]
    },
    {
      "cell_type": "code",
      "execution_count": 67,
      "metadata": {
        "id": "wt57hrXOpJLd"
      },
      "outputs": [],
      "source": [
        "data = data.map(lambda x,y: (x/255, y))"
      ]
    },
    {
      "cell_type": "code",
      "execution_count": null,
      "metadata": {
        "colab": {
          "base_uri": "https://localhost:8080/"
        },
        "collapsed": true,
        "id": "ULQTBFqqpK9M",
        "outputId": "9125a546-ad31-4f37-806b-4228f84ecf68"
      },
      "outputs": [],
      "source": [
        "data.as_numpy_iterator().next()"
      ]
    },
    {
      "cell_type": "markdown",
      "metadata": {
        "id": "jjeirzbdpN4B"
      },
      "source": [
        "# 5. Split Data"
      ]
    },
    {
      "cell_type": "code",
      "execution_count": 69,
      "metadata": {
        "id": "Dew1ermHpR2u"
      },
      "outputs": [],
      "source": [
        "train_size = int(len(data)*.7)\n",
        "val_size = int(len(data)*.2)\n",
        "test_size = int(len(data)*.1)"
      ]
    },
    {
      "cell_type": "code",
      "execution_count": null,
      "metadata": {
        "colab": {
          "base_uri": "https://localhost:8080/"
        },
        "id": "qsIGeVQCpTky",
        "outputId": "7c9e5ebc-b426-471c-bf21-a28c3a83d96f"
      },
      "outputs": [],
      "source": [
        "train_size"
      ]
    },
    {
      "cell_type": "code",
      "execution_count": 71,
      "metadata": {
        "id": "9ewmSSuUpVNb"
      },
      "outputs": [],
      "source": [
        "train = data.take(train_size)\n",
        "val = data.skip(train_size).take(val_size)\n",
        "test = data.skip(train_size+val_size).take(test_size)"
      ]
    },
    {
      "cell_type": "markdown",
      "metadata": {
        "id": "VdgpMzSBpZOc"
      },
      "source": [
        "# 6. Build Deep Learning"
      ]
    },
    {
      "cell_type": "code",
      "execution_count": null,
      "metadata": {
        "colab": {
          "base_uri": "https://localhost:8080/"
        },
        "id": "IFPKJtUYT-yb",
        "outputId": "244103bd-3d0f-45f6-c3a0-6a02b08b76fd"
      },
      "outputs": [],
      "source": [
        "train"
      ]
    },
    {
      "cell_type": "code",
      "execution_count": 73,
      "metadata": {
        "id": "B6J7GDskpfOe"
      },
      "outputs": [],
      "source": [
        "from tensorflow.keras.models import Sequential\n",
        "from tensorflow.keras.layers import Conv2D, MaxPooling2D, Dense, Flatten, Dropout"
      ]
    },
    {
      "cell_type": "code",
      "execution_count": 74,
      "metadata": {
        "id": "KqGPnTSFphOQ"
      },
      "outputs": [],
      "source": [
        "model = Sequential()"
      ]
    },
    {
      "cell_type": "code",
      "execution_count": null,
      "metadata": {
        "colab": {
          "base_uri": "https://localhost:8080/"
        },
        "id": "3JYEEQB-pjCY",
        "outputId": "7ed36ed6-72d4-4529-aa16-e6a3c28ca71a"
      },
      "outputs": [],
      "source": [
        "model.add(Conv2D(16, (3,3), 1, activation='relu', input_shape=(256,256,3)))\n",
        "model.add(MaxPooling2D())\n",
        "model.add(Conv2D(32, (3,3), 1, activation='relu'))\n",
        "model.add(MaxPooling2D())\n",
        "model.add(Conv2D(16, (3,3), 1, activation='relu'))\n",
        "model.add(MaxPooling2D())\n",
        "model.add(Flatten())\n",
        "model.add(Dense(256, activation='relu'))\n",
        "model.add(Dense(1, activation='sigmoid'))"
      ]
    },
    {
      "cell_type": "code",
      "execution_count": 76,
      "metadata": {
        "id": "jpy926ezpkjG"
      },
      "outputs": [],
      "source": [
        "model.compile('adam', loss=tf.losses.BinaryCrossentropy(), metrics=['accuracy'])"
      ]
    },
    {
      "cell_type": "code",
      "execution_count": null,
      "metadata": {
        "colab": {
          "base_uri": "https://localhost:8080/",
          "height": 442
        },
        "id": "aN-ydekipmS1",
        "outputId": "36e0e5ba-4b7c-4297-bafe-18ae33d69fc8"
      },
      "outputs": [],
      "source": [
        "model.summary()"
      ]
    },
    {
      "cell_type": "markdown",
      "metadata": {
        "id": "d7M2j-prprzJ"
      },
      "source": [
        "# 7. Training"
      ]
    },
    {
      "cell_type": "code",
      "execution_count": 78,
      "metadata": {
        "id": "zFFUH546p1kS"
      },
      "outputs": [],
      "source": [
        "logdir='logs'"
      ]
    },
    {
      "cell_type": "code",
      "execution_count": 79,
      "metadata": {
        "id": "j1ZBbWYNp3a6"
      },
      "outputs": [],
      "source": [
        "tensorboard_callback = tf.keras.callbacks.TensorBoard(log_dir=logdir)"
      ]
    },
    {
      "cell_type": "code",
      "execution_count": null,
      "metadata": {
        "colab": {
          "base_uri": "https://localhost:8080/"
        },
        "id": "_pYmoh7Op5RQ",
        "outputId": "01d9b7f8-a22c-4e15-947a-a5c7f1ae97fc"
      },
      "outputs": [],
      "source": [
        "hist = model.fit(train, epochs=20, validation_data=val, callbacks=[tensorboard_callback])"
      ]
    },
    {
      "cell_type": "markdown",
      "metadata": {
        "id": "8K41mew5voku"
      },
      "source": [
        "# 8. plot performence"
      ]
    },
    {
      "cell_type": "code",
      "execution_count": null,
      "metadata": {
        "colab": {
          "base_uri": "https://localhost:8080/",
          "height": 478
        },
        "id": "XF_P0Aihvm7l",
        "outputId": "8cb9a987-d178-45ce-8c55-dac52b4c1346"
      },
      "outputs": [],
      "source": [
        "fig = plt.figure()\n",
        "plt.plot(hist.history['loss'], color='red', label='loss')\n",
        "plt.plot(hist.history['val_loss'], color='blue', label='val_loss')\n",
        "fig.suptitle('Loss', fontsize=18)\n",
        "plt.legend(loc=\"upper right\")\n",
        "plt.show()"
      ]
    },
    {
      "cell_type": "code",
      "execution_count": null,
      "metadata": {
        "colab": {
          "base_uri": "https://localhost:8080/",
          "height": 478
        },
        "id": "njAXQ7atvr5U",
        "outputId": "1065ba9b-08c2-4919-8516-f906759b0196"
      },
      "outputs": [],
      "source": [
        "fig = plt.figure()\n",
        "plt.plot(hist.history['accuracy'], color='green', label='accuracy')\n",
        "plt.plot(hist.history['val_accuracy'], color='orange', label='val_accuracy')\n",
        "fig.suptitle('Accuracy', fontsize=20)\n",
        "plt.legend(loc=\"upper left\")\n",
        "plt.show()"
      ]
    },
    {
      "cell_type": "markdown",
      "metadata": {
        "id": "FtRoYf5IvyzU"
      },
      "source": [
        "# 9. Evaluation"
      ]
    },
    {
      "cell_type": "code",
      "execution_count": 83,
      "metadata": {
        "id": "GMVYfLz_v4Sr"
      },
      "outputs": [],
      "source": [
        "from tensorflow.keras.metrics import Precision, Recall, BinaryAccuracy"
      ]
    },
    {
      "cell_type": "code",
      "execution_count": 84,
      "metadata": {
        "id": "lEit_zRwv5jB"
      },
      "outputs": [],
      "source": [
        "pre = Precision()\n",
        "re = Recall()\n",
        "acc = BinaryAccuracy()"
      ]
    },
    {
      "cell_type": "code",
      "execution_count": null,
      "metadata": {
        "colab": {
          "base_uri": "https://localhost:8080/"
        },
        "id": "uULOU4RGv6ql",
        "outputId": "0f0a92a1-8816-44f2-c138-eea17715f456"
      },
      "outputs": [],
      "source": [
        "for batch in test.as_numpy_iterator():\n",
        "    X, y = batch\n",
        "    yhat = model.predict(X)\n",
        "    pre.update_state(y, yhat)\n",
        "    re.update_state(y, yhat)\n",
        "    acc.update_state(y, yhat)"
      ]
    },
    {
      "cell_type": "code",
      "execution_count": null,
      "metadata": {
        "colab": {
          "base_uri": "https://localhost:8080/"
        },
        "id": "E3_W1b7Cv8Pi",
        "outputId": "bbf855de-f98d-4626-8dd6-a40df16e5b6e"
      },
      "outputs": [],
      "source": [
        "print(pre.result(), re.result(), acc.result())"
      ]
    },
    {
      "cell_type": "markdown",
      "metadata": {
        "id": "za5Sg_FmwDOv"
      },
      "source": [
        "# 10. Testing"
      ]
    },
    {
      "cell_type": "code",
      "execution_count": null,
      "metadata": {
        "colab": {
          "base_uri": "https://localhost:8080/",
          "height": 367
        },
        "id": "EG_HlCRlYzKG",
        "outputId": "2cc88feb-355f-4c6c-888b-ecf3cde29cd3"
      },
      "outputs": [],
      "source": [
        "import cv2\n",
        "import requests\n",
        "import numpy as np\n",
        "import matplotlib.pyplot as plt\n",
        "\n",
        "# t\\Test Image 1\n",
        "url = \"https://github.com/Rishabhmohan13/soAI/blob/a0442affb27401960507ce0a155b06d9729f27cf/test_image2.jpg\"\n",
        "\n",
        "# Download the image\n",
        "response = requests.get(url)\n",
        "\n",
        "if response.status_code == 200:  # Check if the request was successful\n",
        "    image_array = np.frombuffer(response.content, np.uint8)\n",
        "    img = cv2.imdecode(image_array, cv2.IMREAD_COLOR)\n",
        "\n",
        "    # Check if image was decoded correctly\n",
        "    if img is not None:\n",
        "        # Display the image\n",
        "        plt.imshow(cv2.cvtColor(img, cv2.COLOR_BGR2RGB))\n",
        "        plt.axis('off')  # Hide the axes\n",
        "        plt.show()\n",
        "    else:\n",
        "        print(\"Error: Image could not be decoded properly.\")\n",
        "else:\n",
        "    print(\"Error: Unable to download the image.\")"
      ]
    },
    {
      "cell_type": "code",
      "execution_count": null,
      "metadata": {
        "colab": {
          "base_uri": "https://localhost:8080/",
          "height": 435
        },
        "id": "kVWvJqQpwJR5",
        "outputId": "ddf89bd6-f2ac-4f7f-e95c-98180f0d049c"
      },
      "outputs": [],
      "source": [
        "resize = tf.image.resize(img, (256,256))\n",
        "plt.imshow(resize.numpy().astype(int))\n",
        "plt.show()"
      ]
    },
    {
      "cell_type": "code",
      "execution_count": null,
      "metadata": {
        "colab": {
          "base_uri": "https://localhost:8080/"
        },
        "id": "eahKzYMOwLdg",
        "outputId": "319db4da-803e-4064-f796-cc4a37857b2a"
      },
      "outputs": [],
      "source": [
        "yhat = model.predict(np.expand_dims(resize/255, 0))"
      ]
    },
    {
      "cell_type": "code",
      "execution_count": null,
      "metadata": {
        "colab": {
          "base_uri": "https://localhost:8080/"
        },
        "id": "gAxwRy2v3MJ1",
        "outputId": "d2924e5c-af01-4799-ef45-57167b4cc0e5"
      },
      "outputs": [],
      "source": [
        "yhat"
      ]
    },
    {
      "cell_type": "code",
      "execution_count": null,
      "metadata": {
        "colab": {
          "base_uri": "https://localhost:8080/"
        },
        "id": "Uqlac43T3OLE",
        "outputId": "70cf73f8-df4b-4b73-da50-bc36d107d9a0"
      },
      "outputs": [],
      "source": [
        "if yhat > 0.5:\n",
        "    print(f'Predicted class is Sad')\n",
        "else:\n",
        "    print(f'Predicted class is Happy')"
      ]
    },
    {
      "cell_type": "markdown",
      "metadata": {
        "id": "OI2Lp2O_3VeI"
      },
      "source": [
        "# 11. Save the Model"
      ]
    },
    {
      "cell_type": "code",
      "execution_count": 92,
      "metadata": {
        "id": "ufQeIT1V3Vy5"
      },
      "outputs": [],
      "source": [
        "from tensorflow.keras.models import load_model"
      ]
    },
    {
      "cell_type": "code",
      "execution_count": 93,
      "metadata": {
        "id": "jW4HvKE3ZoH7"
      },
      "outputs": [],
      "source": [
        "# Create the 'models' directory if it doesn't exist\n",
        "if not os.path.exists('models'):\n",
        "    os.makedirs('models')\n",
        "\n",
        "model.save(os.path.join('models','imageclassifier.keras'))"
      ]
    },
    {
      "cell_type": "code",
      "execution_count": null,
      "metadata": {
        "colab": {
          "base_uri": "https://localhost:8080/"
        },
        "id": "n9WJBpbQ4jzG",
        "outputId": "2975b961-0e3a-4940-cc5c-e9b80a5a35a3"
      },
      "outputs": [],
      "source": [
        "import os\n",
        "import numpy as np\n",
        "from keras.models import load_model\n",
        "\n",
        "# Assuming the model is already loaded into a variable called `model`\n",
        "# Example code to load the model\n",
        "model_path = 'models/imageclassifier.keras'  # Adjust if necessary\n",
        "if os.path.isfile(model_path):\n",
        "    model = load_model(model_path)\n",
        "    print(\"Model loaded successfully!\")\n",
        "else:\n",
        "    print(f\"Error: The file '{model_path}' does not exist.\")\n",
        "\n",
        "# Assuming you have already resized the image (and it's stored in a variable called `resize`)\n",
        "# Make sure your image is preprocessed correctly (normalized, resized, etc.)\n",
        "# Example of predicting with the model\n",
        "prediction = model.predict(np.expand_dims(resize / 255.0, axis=0))\n",
        "\n",
        "# Print the prediction result\n",
        "print(\"Prediction:\", prediction)"
      ]
    }
  ],
  "metadata": {
    "colab": {
      "provenance": []
    },
    "kernelspec": {
      "display_name": "Python 3",
      "name": "python3"
    },
    "language_info": {
      "name": "python"
    }
  },
  "nbformat": 4,
  "nbformat_minor": 0
}
